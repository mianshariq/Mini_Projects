{
  "nbformat": 4,
  "nbformat_minor": 0,
  "metadata": {
    "colab": {
      "name": "graph.ipynb",
      "provenance": [],
      "authorship_tag": "ABX9TyNxoaACCDVLuYaknW7wK3TC",
      "include_colab_link": true
    },
    "kernelspec": {
      "name": "python3",
      "display_name": "Python 3"
    }
  },
  "cells": [
    {
      "cell_type": "markdown",
      "metadata": {
        "id": "view-in-github",
        "colab_type": "text"
      },
      "source": [
        "<a href=\"https://colab.research.google.com/github/mianshariq/Mini_Projects/blob/master/graph.ipynb\" target=\"_parent\"><img src=\"https://colab.research.google.com/assets/colab-badge.svg\" alt=\"Open In Colab\"/></a>"
      ]
    },
    {
      "cell_type": "code",
      "metadata": {
        "id": "ZLK5YqbXlMMr"
      },
      "source": [
        "data['timeStamp']=pd.to_datetime(data['timeStamp'])\n",
        "\n",
        "data['Hour']=data['timeStamp'].apply(lambda time: time.hour)\n",
        "data['Month']=data['timeStamp'].apply(lambda time: time.month)\n",
        "data['day']=data['timeStamp'].apply(lambda time: time.dayofweek)\n",
        "\n",
        "data[['Hour']] = pd.cut(data['Hour'], \n",
        "                    bins=[0,4,8,12,16,20,24], \n",
        "                    include_lowest=True, \n",
        "                    labels=['0-4AM','4AM-8AM','8AM-12PM', '12PM-4PM', '4PM-8PM', '8PM-12AM'])\n",
        "\n",
        "data['Hour'].value_counts()\n",
        "df7=data['Hour']\n",
        "sns.countplot(x=\"Hour\", data=data,palette='viridis')"
      ],
      "execution_count": null,
      "outputs": []
    }
  ]
}