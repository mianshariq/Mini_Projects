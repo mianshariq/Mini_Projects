{
  "nbformat": 4,
  "nbformat_minor": 0,
  "metadata": {
    "colab": {
      "name": "SUM_function.ipynb",
      "provenance": [],
      "authorship_tag": "ABX9TyPHbYm2IVksjbDNm2IudxwJ",
      "include_colab_link": true
    },
    "kernelspec": {
      "name": "python3",
      "display_name": "Python 3"
    }
  },
  "cells": [
    {
      "cell_type": "markdown",
      "metadata": {
        "id": "view-in-github",
        "colab_type": "text"
      },
      "source": [
        "<a href=\"https://colab.research.google.com/github/mianshariq/Mini_Projects/blob/master/SUM_function.ipynb\" target=\"_parent\"><img src=\"https://colab.research.google.com/assets/colab-badge.svg\" alt=\"Open In Colab\"/></a>"
      ]
    },
    {
      "cell_type": "markdown",
      "metadata": {
        "id": "f2ypU6Na5bJ7"
      },
      "source": [
        "Coding Puzzle #1\n",
        "\n",
        "Sum of integers\n",
        "\n",
        "Write a function which takes one parameter e.g. ‘num’ as input and returns the sum of the integers from zero to the input parameter.\n",
        "\n",
        "The function should return 0 if a non-integer is passed in with a message stating ‘wrong input...BYE!’\n",
        "\n",
        "Note.\n",
        "Write the final script in a ”.py” using VSCode and submit the file itself!!\n",
        "\n"
      ]
    },
    {
      "cell_type": "code",
      "metadata": {
        "colab": {
          "base_uri": "https://localhost:8080/"
        },
        "id": "WcFrMmD06o1-",
        "outputId": "3d497e1a-5732-444a-daa9-e8a0e20bb2b9"
      },
      "source": [
        "def sums(num):\n",
        "  my_sum = 0\n",
        "  i=0\n",
        "  while i <= num:\n",
        "    my_sum = my_sum + i\n",
        "    i+=1\n",
        "  return my_sum\n",
        "\n",
        "sums(4)"
      ],
      "execution_count": 19,
      "outputs": [
        {
          "output_type": "execute_result",
          "data": {
            "text/plain": [
              "10"
            ]
          },
          "metadata": {
            "tags": []
          },
          "execution_count": 19
        }
      ]
    }
  ]
}