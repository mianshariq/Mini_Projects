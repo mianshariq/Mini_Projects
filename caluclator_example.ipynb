{
  "nbformat": 4,
  "nbformat_minor": 0,
  "metadata": {
    "colab": {
      "name": "caluclator_example.ipynb",
      "provenance": [],
      "authorship_tag": "ABX9TyOWpRYsOOo9Kj6BqFNNprlq",
      "include_colab_link": true
    },
    "kernelspec": {
      "name": "python3",
      "display_name": "Python 3"
    }
  },
  "cells": [
    {
      "cell_type": "markdown",
      "metadata": {
        "id": "view-in-github",
        "colab_type": "text"
      },
      "source": [
        "<a href=\"https://colab.research.google.com/github/mianshariq/Mini_Projects/blob/master/caluclator_example.ipynb\" target=\"_parent\"><img src=\"https://colab.research.google.com/assets/colab-badge.svg\" alt=\"Open In Colab\"/></a>"
      ]
    },
    {
      "cell_type": "markdown",
      "metadata": {
        "id": "CKYLxXXp4hdh"
      },
      "source": [
        "# Create a calculator "
      ]
    },
    {
      "cell_type": "code",
      "metadata": {
        "colab": {
          "base_uri": "https://localhost:8080/"
        },
        "id": "N72CjXS4Zs1V",
        "outputId": "267d2080-6c37-40f8-ff1c-71b0cddb8550"
      },
      "source": [
        "#Solution\n",
        "#Created 4 seperate functions which adds, subtract, divide and mutiply\n",
        "def add(x, y):\n",
        "    return x + y\n",
        "def subtract(x, y):\n",
        "    return x - y\n",
        "def multiply(x, y):\n",
        "    return x * y\n",
        "def divide(x, y):\n",
        "    return x / y\n",
        "\n",
        "# User inputs the type pf operation\n",
        "operation = input(\"+ or \\n- or \\n* or \\n/ \")\n",
        "\n",
        "# Check if user uses one of the four options, if true then user inputs the two numbers\n",
        "if operation in ('+', '-', '*', '/'):\n",
        "  num1 = float(input(\"Enter first number: \"))\n",
        "  num2 = float(input(\"Enter second number: \"))\n",
        "  if operation == '+':\n",
        "    print(str(num1) +\" + \" + str(num2) + \" = \" + str(add(num1, num2)))   \n",
        "  elif operation == '-':\n",
        "    print(str(num1) +\" - \" + str(num2) + \" = \" + str(subtract(num1, num2)))\n",
        "  elif operation == '*':\n",
        "    print(str(num1) +\" * \" + str(num2) + \" = \" + str(multiply(num1, num2)))\n",
        "  elif operation == '/':\n",
        "    print(str(num1) +\" / \" + str(num2) + \" = \" + str(divide(num1, num2)))\n",
        "  else:\n",
        "    print(\"Invalid Input\")"
      ],
      "execution_count": 33,
      "outputs": [
        {
          "output_type": "stream",
          "text": [
            "+ or \n",
            "- or \n",
            "* or \n",
            "/ +\n",
            "Enter first number: 3\n",
            "Enter second number: 4\n",
            "3.0 + 4.0 = 7.0\n"
          ],
          "name": "stdout"
        }
      ]
    }
  ]
}