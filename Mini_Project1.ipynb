{
  "nbformat": 4,
  "nbformat_minor": 0,
  "metadata": {
    "colab": {
      "name": "Mini_Project1.ipynb",
      "provenance": [],
      "authorship_tag": "ABX9TyPCWht5mC27S0YmX783boa5",
      "include_colab_link": true
    },
    "kernelspec": {
      "name": "python3",
      "display_name": "Python 3"
    }
  },
  "cells": [
    {
      "cell_type": "markdown",
      "metadata": {
        "id": "view-in-github",
        "colab_type": "text"
      },
      "source": [
        "<a href=\"https://colab.research.google.com/github/mianshariq/Mini_Projects/blob/master/Mini_Project1.ipynb\" target=\"_parent\"><img src=\"https://colab.research.google.com/assets/colab-badge.svg\" alt=\"Open In Colab\"/></a>"
      ]
    },
    {
      "cell_type": "markdown",
      "metadata": {
        "id": "YilqOXGtz8BR"
      },
      "source": [
        "#Shariq Mian\n",
        "####Mini Project 1"
      ]
    },
    {
      "cell_type": "markdown",
      "metadata": {
        "id": "SB4gItpOz1T1"
      },
      "source": [
        "#Question\n",
        "Ask the user for a number. Depending on whether the number is even or odd, print out an appropriate message to the user.  Hint: how does an even / odd number react differently when divided by 2?\n",
        "\n",
        "If the number is a multiple of 4, print out a different message.\n",
        "\n",
        "Write a custom function for finding whether the number is even or odd and call it in your main program code.\n",
        "\n"
      ]
    },
    {
      "cell_type": "code",
      "metadata": {
        "colab": {
          "base_uri": "https://localhost:8080/"
        },
        "id": "LQ9vaeV9r46W",
        "outputId": "24fbf775-1518-4dd2-ae13-33933e596b20"
      },
      "source": [
        "#Solution\n",
        "number=(int(input(\"Input a number to check if its odd or even: \")))\n",
        "def evennumber(num):\n",
        "  if ((num%2)==0) & (num%4==0) :\n",
        "    print(\"Even and Multiple of 4\")\n",
        "  elif ((num%2)==0):\n",
        "    print(\"Even\")\n",
        "  else:\n",
        "    print(\"Odd\")\n",
        "\n",
        "evennumber(number)"
      ],
      "execution_count": 68,
      "outputs": [
        {
          "output_type": "stream",
          "text": [
            "Input a number to check if its odd or even: 4\n",
            "Even and Multiple of 4\n"
          ],
          "name": "stdout"
        }
      ]
    },
    {
      "cell_type": "markdown",
      "metadata": {
        "id": "PKL3jM2X02Wy"
      },
      "source": [
        "#Question \n",
        "Ask the user for two numbers: one number to check (call it num) and one number to divide by (check).  If check divides evenly into num, tell that to the user.  If not, print a different appropriate message."
      ]
    },
    {
      "cell_type": "code",
      "metadata": {
        "colab": {
          "base_uri": "https://localhost:8080/"
        },
        "id": "UCVACPr3seCN",
        "outputId": "dfd391d7-619b-418d-bbc5-88a700cc12a5"
      },
      "source": [
        "#Solution\n",
        "numb=int(input(\"Enter first number: \"))\n",
        "check=int(input(\"Enter second number: \"))\n",
        "\n",
        "def evenly(num1, num2):\n",
        "  if (num1%num2)==0:\n",
        "    print(num1/num2)\n",
        "    print(str(num1) + \" evenly divides by \" + str(num2))\n",
        "  else:\n",
        "    print(num1/num2)\n",
        "    print(str(num1) + \" does not evenly divides by \" + str(num2))\n",
        "\n",
        "\n",
        "evenly(numb, check) \n"
      ],
      "execution_count": 70,
      "outputs": [
        {
          "output_type": "stream",
          "text": [
            "Enter first number: 324\n",
            "Enter second number: 4\n",
            "81.0\n",
            "324 evenly divides by 4\n"
          ],
          "name": "stdout"
        }
      ]
    }
  ]
}