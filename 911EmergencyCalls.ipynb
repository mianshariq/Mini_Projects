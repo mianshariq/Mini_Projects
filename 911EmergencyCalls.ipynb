{
  "nbformat": 4,
  "nbformat_minor": 0,
  "metadata": {
    "colab": {
      "name": "911EmergencyCalls.ipynb",
      "provenance": [],
      "collapsed_sections": [],
      "include_colab_link": true
    },
    "kernelspec": {
      "name": "python3",
      "display_name": "Python 3"
    }
  },
  "cells": [
    {
      "cell_type": "markdown",
      "metadata": {
        "id": "view-in-github",
        "colab_type": "text"
      },
      "source": [
        "<a href=\"https://colab.research.google.com/github/mianshariq/Mini_Projects/blob/master/911EmergencyCalls.ipynb\" target=\"_parent\"><img src=\"https://colab.research.google.com/assets/colab-badge.svg\" alt=\"Open In Colab\"/></a>"
      ]
    },
    {
      "cell_type": "markdown",
      "metadata": {
        "id": "P5dUtcQvvbBo"
      },
      "source": [
        "#Case Study\r\n",
        "\r\n",
        "Congrats! You have been contracted to conduct a brief analysis of a dataset containing ememrgency calls in order to determine the allocation of funds to you local authorities.  This analysis will play a role in deciding changes to the emergency response department.\r\n",
        "\r\n",
        "The data is based in 911 emergency calls and your job is to determine a variety of issues regarding said calls.\r\n",
        "\r\n",
        "1. Using Pandas and Numpy, analyse the data and come up with 5 questions that you would like to answer about the data.\r\n",
        "\r\n",
        "2. The instructor will provide a range of questions to answer, and you should use your knowledge to complete them as a team."
      ]
    },
    {
      "cell_type": "code",
      "metadata": {
        "id": "W9grgLjZ_7Wv"
      },
      "source": [
        "import numpy as np\r\n",
        "import pandas as pd\r\n",
        "import matplotlib.pyplot as plt\r\n",
        "%matplotlib inline\r\n",
        "from google.colab import drive"
      ],
      "execution_count": null,
      "outputs": []
    },
    {
      "cell_type": "code",
      "metadata": {
        "colab": {
          "base_uri": "https://localhost:8080/"
        },
        "id": "uCGQLZyBDcy0",
        "outputId": "4b5845b2-d327-49f3-d137-2ecc7cfadf6e"
      },
      "source": [
        "from google.colab import drive\r\n",
        "drive.mount('/content/drive')"
      ],
      "execution_count": null,
      "outputs": [
        {
          "output_type": "stream",
          "text": [
            "Drive already mounted at /content/drive; to attempt to forcibly remount, call drive.mount(\"/content/drive\", force_remount=True).\n"
          ],
          "name": "stdout"
        }
      ]
    },
    {
      "cell_type": "code",
      "metadata": {
        "id": "d9_rwKm2DiF_"
      },
      "source": [
        "data = pd.read_csv('/content/drive/MyDrive/Colab Notebooks/Projects/Data/911.csv')"
      ],
      "execution_count": null,
      "outputs": []
    },
    {
      "cell_type": "code",
      "metadata": {
        "colab": {
          "base_uri": "https://localhost:8080/"
        },
        "id": "wzr_JpbsD3uM",
        "outputId": "266446bd-80d4-41c3-cd0f-4905aa2b7fa0"
      },
      "source": [
        "data.info()"
      ],
      "execution_count": null,
      "outputs": [
        {
          "output_type": "stream",
          "text": [
            "<class 'pandas.core.frame.DataFrame'>\n",
            "RangeIndex: 99492 entries, 0 to 99491\n",
            "Data columns (total 9 columns):\n",
            " #   Column     Non-Null Count  Dtype  \n",
            "---  ------     --------------  -----  \n",
            " 0   lat        99492 non-null  float64\n",
            " 1   lng        99492 non-null  float64\n",
            " 2   desc       99492 non-null  object \n",
            " 3   zip        86637 non-null  float64\n",
            " 4   title      99492 non-null  object \n",
            " 5   timeStamp  99492 non-null  object \n",
            " 6   twp        99449 non-null  object \n",
            " 7   addr       98973 non-null  object \n",
            " 8   e          99492 non-null  int64  \n",
            "dtypes: float64(3), int64(1), object(5)\n",
            "memory usage: 6.8+ MB\n"
          ],
          "name": "stdout"
        }
      ]
    },
    {
      "cell_type": "code",
      "metadata": {
        "colab": {
          "base_uri": "https://localhost:8080/",
          "height": 501
        },
        "id": "gkufP9OLEYjR",
        "outputId": "beda1922-b1e4-433e-9b67-83db0757cfbe"
      },
      "source": [
        "data.tail()"
      ],
      "execution_count": null,
      "outputs": [
        {
          "output_type": "execute_result",
          "data": {
            "text/html": [
              "<div>\n",
              "<style scoped>\n",
              "    .dataframe tbody tr th:only-of-type {\n",
              "        vertical-align: middle;\n",
              "    }\n",
              "\n",
              "    .dataframe tbody tr th {\n",
              "        vertical-align: top;\n",
              "    }\n",
              "\n",
              "    .dataframe thead th {\n",
              "        text-align: right;\n",
              "    }\n",
              "</style>\n",
              "<table border=\"1\" class=\"dataframe\">\n",
              "  <thead>\n",
              "    <tr style=\"text-align: right;\">\n",
              "      <th></th>\n",
              "      <th>lat</th>\n",
              "      <th>lng</th>\n",
              "      <th>desc</th>\n",
              "      <th>zip</th>\n",
              "      <th>title</th>\n",
              "      <th>timeStamp</th>\n",
              "      <th>twp</th>\n",
              "      <th>addr</th>\n",
              "      <th>e</th>\n",
              "    </tr>\n",
              "  </thead>\n",
              "  <tbody>\n",
              "    <tr>\n",
              "      <th>99487</th>\n",
              "      <td>40.132869</td>\n",
              "      <td>-75.333515</td>\n",
              "      <td>MARKLEY ST &amp; W LOGAN ST; NORRISTOWN; 2016-08-2...</td>\n",
              "      <td>19401.0</td>\n",
              "      <td>Traffic: VEHICLE ACCIDENT -</td>\n",
              "      <td>2016-08-24 11:06:00</td>\n",
              "      <td>NORRISTOWN</td>\n",
              "      <td>MARKLEY ST &amp; W LOGAN ST</td>\n",
              "      <td>1</td>\n",
              "    </tr>\n",
              "    <tr>\n",
              "      <th>99488</th>\n",
              "      <td>40.006974</td>\n",
              "      <td>-75.289080</td>\n",
              "      <td>LANCASTER AVE &amp; RITTENHOUSE PL; LOWER MERION; ...</td>\n",
              "      <td>19003.0</td>\n",
              "      <td>Traffic: VEHICLE ACCIDENT -</td>\n",
              "      <td>2016-08-24 11:07:02</td>\n",
              "      <td>LOWER MERION</td>\n",
              "      <td>LANCASTER AVE &amp; RITTENHOUSE PL</td>\n",
              "      <td>1</td>\n",
              "    </tr>\n",
              "    <tr>\n",
              "      <th>99489</th>\n",
              "      <td>40.115429</td>\n",
              "      <td>-75.334679</td>\n",
              "      <td>CHESTNUT ST &amp; WALNUT ST;  NORRISTOWN; Station ...</td>\n",
              "      <td>19401.0</td>\n",
              "      <td>EMS: FALL VICTIM</td>\n",
              "      <td>2016-08-24 11:12:00</td>\n",
              "      <td>NORRISTOWN</td>\n",
              "      <td>CHESTNUT ST &amp; WALNUT ST</td>\n",
              "      <td>1</td>\n",
              "    </tr>\n",
              "    <tr>\n",
              "      <th>99490</th>\n",
              "      <td>40.186431</td>\n",
              "      <td>-75.192555</td>\n",
              "      <td>WELSH RD &amp; WEBSTER LN;  HORSHAM; Station 352; ...</td>\n",
              "      <td>19002.0</td>\n",
              "      <td>EMS: NAUSEA/VOMITING</td>\n",
              "      <td>2016-08-24 11:17:01</td>\n",
              "      <td>HORSHAM</td>\n",
              "      <td>WELSH RD &amp; WEBSTER LN</td>\n",
              "      <td>1</td>\n",
              "    </tr>\n",
              "    <tr>\n",
              "      <th>99491</th>\n",
              "      <td>40.207055</td>\n",
              "      <td>-75.317952</td>\n",
              "      <td>MORRIS RD &amp; S BROAD ST; UPPER GWYNEDD; 2016-08...</td>\n",
              "      <td>19446.0</td>\n",
              "      <td>Traffic: VEHICLE ACCIDENT -</td>\n",
              "      <td>2016-08-24 11:17:02</td>\n",
              "      <td>UPPER GWYNEDD</td>\n",
              "      <td>MORRIS RD &amp; S BROAD ST</td>\n",
              "      <td>1</td>\n",
              "    </tr>\n",
              "  </tbody>\n",
              "</table>\n",
              "</div>"
            ],
            "text/plain": [
              "             lat        lng  ...                            addr  e\n",
              "99487  40.132869 -75.333515  ...         MARKLEY ST & W LOGAN ST  1\n",
              "99488  40.006974 -75.289080  ...  LANCASTER AVE & RITTENHOUSE PL  1\n",
              "99489  40.115429 -75.334679  ...         CHESTNUT ST & WALNUT ST  1\n",
              "99490  40.186431 -75.192555  ...           WELSH RD & WEBSTER LN  1\n",
              "99491  40.207055 -75.317952  ...          MORRIS RD & S BROAD ST  1\n",
              "\n",
              "[5 rows x 9 columns]"
            ]
          },
          "metadata": {
            "tags": []
          },
          "execution_count": 41
        }
      ]
    },
    {
      "cell_type": "code",
      "metadata": {
        "colab": {
          "base_uri": "https://localhost:8080/",
          "height": 287
        },
        "id": "9juCykR4D5Ii",
        "outputId": "342177de-f51b-468c-e3b3-3baa9910b7fb"
      },
      "source": [
        "data.describe()"
      ],
      "execution_count": null,
      "outputs": [
        {
          "output_type": "execute_result",
          "data": {
            "text/html": [
              "<div>\n",
              "<style scoped>\n",
              "    .dataframe tbody tr th:only-of-type {\n",
              "        vertical-align: middle;\n",
              "    }\n",
              "\n",
              "    .dataframe tbody tr th {\n",
              "        vertical-align: top;\n",
              "    }\n",
              "\n",
              "    .dataframe thead th {\n",
              "        text-align: right;\n",
              "    }\n",
              "</style>\n",
              "<table border=\"1\" class=\"dataframe\">\n",
              "  <thead>\n",
              "    <tr style=\"text-align: right;\">\n",
              "      <th></th>\n",
              "      <th>lat</th>\n",
              "      <th>lng</th>\n",
              "      <th>zip</th>\n",
              "      <th>e</th>\n",
              "    </tr>\n",
              "  </thead>\n",
              "  <tbody>\n",
              "    <tr>\n",
              "      <th>count</th>\n",
              "      <td>99492.000000</td>\n",
              "      <td>99492.000000</td>\n",
              "      <td>86637.000000</td>\n",
              "      <td>99492.0</td>\n",
              "    </tr>\n",
              "    <tr>\n",
              "      <th>mean</th>\n",
              "      <td>40.159526</td>\n",
              "      <td>-75.317464</td>\n",
              "      <td>19237.658298</td>\n",
              "      <td>1.0</td>\n",
              "    </tr>\n",
              "    <tr>\n",
              "      <th>std</th>\n",
              "      <td>0.094446</td>\n",
              "      <td>0.174826</td>\n",
              "      <td>345.344914</td>\n",
              "      <td>0.0</td>\n",
              "    </tr>\n",
              "    <tr>\n",
              "      <th>min</th>\n",
              "      <td>30.333596</td>\n",
              "      <td>-95.595595</td>\n",
              "      <td>17752.000000</td>\n",
              "      <td>1.0</td>\n",
              "    </tr>\n",
              "    <tr>\n",
              "      <th>25%</th>\n",
              "      <td>40.100423</td>\n",
              "      <td>-75.392104</td>\n",
              "      <td>19038.000000</td>\n",
              "      <td>1.0</td>\n",
              "    </tr>\n",
              "    <tr>\n",
              "      <th>50%</th>\n",
              "      <td>40.145223</td>\n",
              "      <td>-75.304667</td>\n",
              "      <td>19401.000000</td>\n",
              "      <td>1.0</td>\n",
              "    </tr>\n",
              "    <tr>\n",
              "      <th>75%</th>\n",
              "      <td>40.229008</td>\n",
              "      <td>-75.212513</td>\n",
              "      <td>19446.000000</td>\n",
              "      <td>1.0</td>\n",
              "    </tr>\n",
              "    <tr>\n",
              "      <th>max</th>\n",
              "      <td>41.167156</td>\n",
              "      <td>-74.995041</td>\n",
              "      <td>77316.000000</td>\n",
              "      <td>1.0</td>\n",
              "    </tr>\n",
              "  </tbody>\n",
              "</table>\n",
              "</div>"
            ],
            "text/plain": [
              "                lat           lng           zip        e\n",
              "count  99492.000000  99492.000000  86637.000000  99492.0\n",
              "mean      40.159526    -75.317464  19237.658298      1.0\n",
              "std        0.094446      0.174826    345.344914      0.0\n",
              "min       30.333596    -95.595595  17752.000000      1.0\n",
              "25%       40.100423    -75.392104  19038.000000      1.0\n",
              "50%       40.145223    -75.304667  19401.000000      1.0\n",
              "75%       40.229008    -75.212513  19446.000000      1.0\n",
              "max       41.167156    -74.995041  77316.000000      1.0"
            ]
          },
          "metadata": {
            "tags": []
          },
          "execution_count": 42
        }
      ]
    },
    {
      "cell_type": "markdown",
      "metadata": {
        "id": "R3c-H1yxEBGK"
      },
      "source": [
        "# Self-Created Questions\r\n",
        "\r\n",
        "1. What are the 10 most common titles for 911 emergency calls?\r\n",
        "1. How many emergency calls did each zip code make?\r\n",
        "1. What township(s) made the least 911 emergency calls?\r\n",
        "1. How many addresses have \"dead end\" in them?\r\n",
        "1. How many 911 emergency calls were made in each year?"
      ]
    },
    {
      "cell_type": "markdown",
      "metadata": {
        "id": "yCB2_d_qGDwp"
      },
      "source": [
        "## Question 1\n",
        "\n",
        "What are the 10 most common titles for 911 emergency calls?"
      ]
    },
    {
      "cell_type": "code",
      "metadata": {
        "id": "pj6CQKgREd31",
        "colab": {
          "base_uri": "https://localhost:8080/"
        },
        "outputId": "fcbaaa0e-db83-4656-a855-7c2974ec5c96"
      },
      "source": [
        "titles = data['title'].value_counts()[:10].to_dict()\n",
        "\n",
        "print('The 10 most common jobs are:')\n",
        "\n",
        "for key,value in titles.items():\n",
        "  print(key + ':', value)"
      ],
      "execution_count": null,
      "outputs": [
        {
          "output_type": "stream",
          "text": [
            "The 10 most common jobs are:\n",
            "Traffic: VEHICLE ACCIDENT -: 23066\n",
            "Traffic: DISABLED VEHICLE -: 7702\n",
            "Fire: FIRE ALARM: 5496\n",
            "EMS: RESPIRATORY EMERGENCY: 5112\n",
            "EMS: CARDIAC EMERGENCY: 5012\n",
            "EMS: FALL VICTIM: 4863\n",
            "EMS: VEHICLE ACCIDENT: 3935\n",
            "Traffic: ROAD OBSTRUCTION -: 3144\n",
            "EMS: SUBJECT IN PAIN: 2687\n",
            "EMS: HEAD INJURY: 2631\n"
          ],
          "name": "stdout"
        }
      ]
    },
    {
      "cell_type": "code",
      "metadata": {
        "colab": {
          "base_uri": "https://localhost:8080/"
        },
        "id": "VP_YcKoKHpLZ",
        "outputId": "d1bad77c-bb11-49a3-8632-8ed694a3b1f1"
      },
      "source": [
        "data['title'].value_counts().head(10)"
      ],
      "execution_count": null,
      "outputs": [
        {
          "output_type": "execute_result",
          "data": {
            "text/plain": [
              "Traffic: VEHICLE ACCIDENT -    23066\n",
              "Traffic: DISABLED VEHICLE -     7702\n",
              "Fire: FIRE ALARM                5496\n",
              "EMS: RESPIRATORY EMERGENCY      5112\n",
              "EMS: CARDIAC EMERGENCY          5012\n",
              "EMS: FALL VICTIM                4863\n",
              "EMS: VEHICLE ACCIDENT           3935\n",
              "Traffic: ROAD OBSTRUCTION -     3144\n",
              "EMS: SUBJECT IN PAIN            2687\n",
              "EMS: HEAD INJURY                2631\n",
              "Name: title, dtype: int64"
            ]
          },
          "metadata": {
            "tags": []
          },
          "execution_count": 44
        }
      ]
    },
    {
      "cell_type": "markdown",
      "metadata": {
        "id": "vVs1AV5JH6tC"
      },
      "source": [
        "## Question 2\n",
        "\n",
        "How many emergency calls did each zip code make?"
      ]
    },
    {
      "cell_type": "code",
      "metadata": {
        "colab": {
          "base_uri": "https://localhost:8080/"
        },
        "id": "6wC5s8huHvBG",
        "outputId": "b1de9546-9a53-482e-9bdd-63153d6e2e50"
      },
      "source": [
        "# df['zip'].dropna().unique() would remove the NaN zip codes if using the unique method\r\n",
        "\r\n",
        "# Since each row is an instance of an emergency call, we merely need to count the number\r\n",
        "# of occurrences of each zip code.\r\n",
        "zip_code_calls = data['zip'].value_counts().to_dict()\r\n",
        "\r\n",
        "for key,value in zip_code_calls.items():\r\n",
        "  print('Zip code', int(key), 'made', value, 'emergency calls between Dec. 2015 and Aug. 2016.')"
      ],
      "execution_count": null,
      "outputs": [
        {
          "output_type": "stream",
          "text": [
            "Zip code 19401 made 6979 emergency calls between Dec. 2015 and Aug. 2016.\n",
            "Zip code 19464 made 6643 emergency calls between Dec. 2015 and Aug. 2016.\n",
            "Zip code 19403 made 4854 emergency calls between Dec. 2015 and Aug. 2016.\n",
            "Zip code 19446 made 4748 emergency calls between Dec. 2015 and Aug. 2016.\n",
            "Zip code 19406 made 3174 emergency calls between Dec. 2015 and Aug. 2016.\n",
            "Zip code 19002 made 3050 emergency calls between Dec. 2015 and Aug. 2016.\n",
            "Zip code 19468 made 2990 emergency calls between Dec. 2015 and Aug. 2016.\n",
            "Zip code 19454 made 2781 emergency calls between Dec. 2015 and Aug. 2016.\n",
            "Zip code 19090 made 2635 emergency calls between Dec. 2015 and Aug. 2016.\n",
            "Zip code 19038 made 2578 emergency calls between Dec. 2015 and Aug. 2016.\n",
            "Zip code 19046 made 2564 emergency calls between Dec. 2015 and Aug. 2016.\n",
            "Zip code 19426 made 2461 emergency calls between Dec. 2015 and Aug. 2016.\n",
            "Zip code 19428 made 2296 emergency calls between Dec. 2015 and Aug. 2016.\n",
            "Zip code 19006 made 2256 emergency calls between Dec. 2015 and Aug. 2016.\n",
            "Zip code 19462 made 2078 emergency calls between Dec. 2015 and Aug. 2016.\n",
            "Zip code 19040 made 2043 emergency calls between Dec. 2015 and Aug. 2016.\n",
            "Zip code 19438 made 1990 emergency calls between Dec. 2015 and Aug. 2016.\n",
            "Zip code 19422 made 1963 emergency calls between Dec. 2015 and Aug. 2016.\n",
            "Zip code 19027 made 1818 emergency calls between Dec. 2015 and Aug. 2016.\n",
            "Zip code 19044 made 1595 emergency calls between Dec. 2015 and Aug. 2016.\n",
            "Zip code 19001 made 1514 emergency calls between Dec. 2015 and Aug. 2016.\n",
            "Zip code 19010 made 1316 emergency calls between Dec. 2015 and Aug. 2016.\n",
            "Zip code 18964 made 1287 emergency calls between Dec. 2015 and Aug. 2016.\n",
            "Zip code 19004 made 1280 emergency calls between Dec. 2015 and Aug. 2016.\n",
            "Zip code 19440 made 1190 emergency calls between Dec. 2015 and Aug. 2016.\n",
            "Zip code 19096 made 1115 emergency calls between Dec. 2015 and Aug. 2016.\n",
            "Zip code 19003 made 1094 emergency calls between Dec. 2015 and Aug. 2016.\n",
            "Zip code 19095 made 1023 emergency calls between Dec. 2015 and Aug. 2016.\n",
            "Zip code 19473 made 1012 emergency calls between Dec. 2015 and Aug. 2016.\n",
            "Zip code 19444 made 1008 emergency calls between Dec. 2015 and Aug. 2016.\n",
            "Zip code 19525 made 965 emergency calls between Dec. 2015 and Aug. 2016.\n",
            "Zip code 19034 made 796 emergency calls between Dec. 2015 and Aug. 2016.\n",
            "Zip code 18073 made 736 emergency calls between Dec. 2015 and Aug. 2016.\n",
            "Zip code 19072 made 728 emergency calls between Dec. 2015 and Aug. 2016.\n",
            "Zip code 18969 made 672 emergency calls between Dec. 2015 and Aug. 2016.\n",
            "Zip code 19012 made 593 emergency calls between Dec. 2015 and Aug. 2016.\n",
            "Zip code 19031 made 566 emergency calls between Dec. 2015 and Aug. 2016.\n",
            "Zip code 19025 made 493 emergency calls between Dec. 2015 and Aug. 2016.\n",
            "Zip code 19035 made 481 emergency calls between Dec. 2015 and Aug. 2016.\n",
            "Zip code 19465 made 458 emergency calls between Dec. 2015 and Aug. 2016.\n",
            "Zip code 19066 made 451 emergency calls between Dec. 2015 and Aug. 2016.\n",
            "Zip code 19041 made 436 emergency calls between Dec. 2015 and Aug. 2016.\n",
            "Zip code 18074 made 435 emergency calls between Dec. 2015 and Aug. 2016.\n",
            "Zip code 19405 made 428 emergency calls between Dec. 2015 and Aug. 2016.\n",
            "Zip code 19460 made 427 emergency calls between Dec. 2015 and Aug. 2016.\n",
            "Zip code 18041 made 414 emergency calls between Dec. 2015 and Aug. 2016.\n",
            "Zip code 19087 made 344 emergency calls between Dec. 2015 and Aug. 2016.\n",
            "Zip code 18054 made 326 emergency calls between Dec. 2015 and Aug. 2016.\n",
            "Zip code 18076 made 306 emergency calls between Dec. 2015 and Aug. 2016.\n",
            "Zip code 19085 made 304 emergency calls between Dec. 2015 and Aug. 2016.\n",
            "Zip code 19075 made 302 emergency calls between Dec. 2015 and Aug. 2016.\n",
            "Zip code 19150 made 288 emergency calls between Dec. 2015 and Aug. 2016.\n",
            "Zip code 19151 made 287 emergency calls between Dec. 2015 and Aug. 2016.\n",
            "Zip code 18936 made 254 emergency calls between Dec. 2015 and Aug. 2016.\n",
            "Zip code 19512 made 220 emergency calls between Dec. 2015 and Aug. 2016.\n",
            "Zip code 18974 made 215 emergency calls between Dec. 2015 and Aug. 2016.\n",
            "Zip code 19131 made 137 emergency calls between Dec. 2015 and Aug. 2016.\n",
            "Zip code 19128 made 122 emergency calls between Dec. 2015 and Aug. 2016.\n",
            "Zip code 18915 made 118 emergency calls between Dec. 2015 and Aug. 2016.\n",
            "Zip code 19453 made 101 emergency calls between Dec. 2015 and Aug. 2016.\n",
            "Zip code 19504 made 101 emergency calls between Dec. 2015 and Aug. 2016.\n",
            "Zip code 19475 made 73 emergency calls between Dec. 2015 and Aug. 2016.\n",
            "Zip code 18914 made 66 emergency calls between Dec. 2015 and Aug. 2016.\n",
            "Zip code 19518 made 57 emergency calls between Dec. 2015 and Aug. 2016.\n",
            "Zip code 18070 made 54 emergency calls between Dec. 2015 and Aug. 2016.\n",
            "Zip code 19118 made 51 emergency calls between Dec. 2015 and Aug. 2016.\n",
            "Zip code 19009 made 49 emergency calls between Dec. 2015 and Aug. 2016.\n",
            "Zip code 18976 made 45 emergency calls between Dec. 2015 and Aug. 2016.\n",
            "Zip code 18966 made 44 emergency calls between Dec. 2015 and Aug. 2016.\n",
            "Zip code 19492 made 40 emergency calls between Dec. 2015 and Aug. 2016.\n",
            "Zip code 19111 made 36 emergency calls between Dec. 2015 and Aug. 2016.\n",
            "Zip code 19435 made 35 emergency calls between Dec. 2015 and Aug. 2016.\n",
            "Zip code 18960 made 34 emergency calls between Dec. 2015 and Aug. 2016.\n",
            "Zip code 19126 made 32 emergency calls between Dec. 2015 and Aug. 2016.\n",
            "Zip code 19505 made 27 emergency calls between Dec. 2015 and Aug. 2016.\n",
            "Zip code 19120 made 26 emergency calls between Dec. 2015 and Aug. 2016.\n",
            "Zip code 19083 made 20 emergency calls between Dec. 2015 and Aug. 2016.\n",
            "Zip code 18092 made 14 emergency calls between Dec. 2015 and Aug. 2016.\n",
            "Zip code 18932 made 11 emergency calls between Dec. 2015 and Aug. 2016.\n",
            "Zip code 18951 made 10 emergency calls between Dec. 2015 and Aug. 2016.\n",
            "Zip code 19477 made 10 emergency calls between Dec. 2015 and Aug. 2016.\n",
            "Zip code 19115 made 8 emergency calls between Dec. 2015 and Aug. 2016.\n",
            "Zip code 19472 made 6 emergency calls between Dec. 2015 and Aug. 2016.\n",
            "Zip code 18056 made 6 emergency calls between Dec. 2015 and Aug. 2016.\n",
            "Zip code 19053 made 6 emergency calls between Dec. 2015 and Aug. 2016.\n",
            "Zip code 19503 made 4 emergency calls between Dec. 2015 and Aug. 2016.\n",
            "Zip code 19116 made 4 emergency calls between Dec. 2015 and Aug. 2016.\n",
            "Zip code 19423 made 4 emergency calls between Dec. 2015 and Aug. 2016.\n",
            "Zip code 18103 made 4 emergency calls between Dec. 2015 and Aug. 2016.\n",
            "Zip code 19082 made 3 emergency calls between Dec. 2015 and Aug. 2016.\n",
            "Zip code 19355 made 2 emergency calls between Dec. 2015 and Aug. 2016.\n",
            "Zip code 18927 made 2 emergency calls between Dec. 2015 and Aug. 2016.\n",
            "Zip code 19129 made 2 emergency calls between Dec. 2015 and Aug. 2016.\n",
            "Zip code 19138 made 2 emergency calls between Dec. 2015 and Aug. 2016.\n",
            "Zip code 18036 made 2 emergency calls between Dec. 2015 and Aug. 2016.\n",
            "Zip code 36107 made 1 emergency calls between Dec. 2015 and Aug. 2016.\n",
            "Zip code 19490 made 1 emergency calls between Dec. 2015 and Aug. 2016.\n",
            "Zip code 19127 made 1 emergency calls between Dec. 2015 and Aug. 2016.\n",
            "Zip code 19107 made 1 emergency calls between Dec. 2015 and Aug. 2016.\n",
            "Zip code 77316 made 1 emergency calls between Dec. 2015 and Aug. 2016.\n",
            "Zip code 19457 made 1 emergency calls between Dec. 2015 and Aug. 2016.\n",
            "Zip code 19139 made 1 emergency calls between Dec. 2015 and Aug. 2016.\n",
            "Zip code 19119 made 1 emergency calls between Dec. 2015 and Aug. 2016.\n",
            "Zip code 17752 made 1 emergency calls between Dec. 2015 and Aug. 2016.\n"
          ],
          "name": "stdout"
        }
      ]
    },
    {
      "cell_type": "markdown",
      "metadata": {
        "id": "5FsDMA19NCrm"
      },
      "source": [
        "## Question 3\n",
        "\n",
        "What township(s) made the least 911 emergency calls?"
      ]
    },
    {
      "cell_type": "code",
      "metadata": {
        "colab": {
          "base_uri": "https://localhost:8080/"
        },
        "id": "r1AAKTiuKZzB",
        "outputId": "056d34c2-013e-4d6c-bcd3-bf9a180606e0"
      },
      "source": [
        "data['twp'].value_counts().tail(1)"
      ],
      "execution_count": null,
      "outputs": [
        {
          "output_type": "execute_result",
          "data": {
            "text/plain": [
              "LEHIGH COUNTY    30\n",
              "Name: twp, dtype: int64"
            ]
          },
          "metadata": {
            "tags": []
          },
          "execution_count": 46
        }
      ]
    },
    {
      "cell_type": "markdown",
      "metadata": {
        "id": "a68YnW_cNtLc"
      },
      "source": [
        "## Question 4\n",
        "\n",
        "How many addresses have \"dead end\" in them?"
      ]
    },
    {
      "cell_type": "code",
      "metadata": {
        "colab": {
          "base_uri": "https://localhost:8080/"
        },
        "id": "uNZi2lDgOKdH",
        "outputId": "cc10fb41-cc7f-4fe8-d2b5-dfd26976ad81"
      },
      "source": [
        "dead_ends = data[data['addr'].str.contains('DEAD END', na=False)]['addr'].count()\n",
        "print('There are', dead_ends, 'addresses with \"DEAD END\" in them.')"
      ],
      "execution_count": null,
      "outputs": [
        {
          "output_type": "stream",
          "text": [
            "There are 1390 addresses with \"DEAD END\" in them.\n"
          ],
          "name": "stdout"
        }
      ]
    },
    {
      "cell_type": "markdown",
      "metadata": {
        "id": "5L7prWXllcQh"
      },
      "source": [
        "## Question 5\n",
        "\n",
        "How many 911 emergency calls were made in each year?"
      ]
    },
    {
      "cell_type": "code",
      "metadata": {
        "id": "eeIQdvIFP7Hr",
        "colab": {
          "base_uri": "https://localhost:8080/"
        },
        "outputId": "f810437f-7323-4483-d10e-ea60762ad011"
      },
      "source": [
        "calls_2015 = data[data['timeStamp'].str.contains('2015', na=False)]['timeStamp'].count()\n",
        "calls_2016 = data[data['timeStamp'].str.contains('2016', na=False)]['timeStamp'].count()\n",
        "\n",
        "print('There were', calls_2015, 'emergency calls made in 2015.')\n",
        "print('There were', calls_2016, 'emergency calls made in 2016.')\n",
        "\n",
        "# Checking that the number matches with the count given by the describe() method\n",
        "print(calls_2015 + calls_2016, 'were made in total.')"
      ],
      "execution_count": null,
      "outputs": [
        {
          "output_type": "stream",
          "text": [
            "There were 7969 emergency calls made in 2015.\n",
            "There were 91523 emergency calls made in 2016.\n",
            "99492 were made in total.\n"
          ],
          "name": "stdout"
        }
      ]
    },
    {
      "cell_type": "markdown",
      "metadata": {
        "id": "MtY3ZpcoyalF"
      },
      "source": [
        "# Instructor's Questions"
      ]
    },
    {
      "cell_type": "code",
      "metadata": {
        "id": "hLUN_K9sswWJ",
        "colab": {
          "base_uri": "https://localhost:8080/"
        },
        "outputId": "20b26434-2b55-4da7-bf40-4a1dd9a17d96"
      },
      "source": [
        "data['timeStamp']=pd.to_datetime(data['timeStamp'])\n",
        "data.info()"
      ],
      "execution_count": null,
      "outputs": [
        {
          "output_type": "stream",
          "text": [
            "<class 'pandas.core.frame.DataFrame'>\n",
            "RangeIndex: 99492 entries, 0 to 99491\n",
            "Data columns (total 9 columns):\n",
            " #   Column     Non-Null Count  Dtype         \n",
            "---  ------     --------------  -----         \n",
            " 0   lat        99492 non-null  float64       \n",
            " 1   lng        99492 non-null  float64       \n",
            " 2   desc       99492 non-null  object        \n",
            " 3   zip        86637 non-null  float64       \n",
            " 4   title      99492 non-null  object        \n",
            " 5   timeStamp  99492 non-null  datetime64[ns]\n",
            " 6   twp        99449 non-null  object        \n",
            " 7   addr       98973 non-null  object        \n",
            " 8   e          99492 non-null  int64         \n",
            "dtypes: datetime64[ns](1), float64(3), int64(1), object(4)\n",
            "memory usage: 6.8+ MB\n"
          ],
          "name": "stdout"
        }
      ]
    },
    {
      "cell_type": "code",
      "metadata": {
        "id": "EICe8aJXwLKb"
      },
      "source": [
        "data['time_Stamp']=data['timeStamp'].dt.time "
      ],
      "execution_count": null,
      "outputs": []
    },
    {
      "cell_type": "code",
      "metadata": {
        "id": "ZSGsJD8prgnu",
        "colab": {
          "base_uri": "https://localhost:8080/"
        },
        "outputId": "109263a7-41f7-4f64-c112-5003a9f9312e"
      },
      "source": [
        "data.info()"
      ],
      "execution_count": null,
      "outputs": [
        {
          "output_type": "stream",
          "text": [
            "<class 'pandas.core.frame.DataFrame'>\n",
            "RangeIndex: 99492 entries, 0 to 99491\n",
            "Data columns (total 10 columns):\n",
            " #   Column      Non-Null Count  Dtype         \n",
            "---  ------      --------------  -----         \n",
            " 0   lat         99492 non-null  float64       \n",
            " 1   lng         99492 non-null  float64       \n",
            " 2   desc        99492 non-null  object        \n",
            " 3   zip         86637 non-null  float64       \n",
            " 4   title       99492 non-null  object        \n",
            " 5   timeStamp   99492 non-null  datetime64[ns]\n",
            " 6   twp         99449 non-null  object        \n",
            " 7   addr        98973 non-null  object        \n",
            " 8   e           99492 non-null  int64         \n",
            " 9   time_Stamp  99492 non-null  object        \n",
            "dtypes: datetime64[ns](1), float64(3), int64(1), object(5)\n",
            "memory usage: 7.6+ MB\n"
          ],
          "name": "stdout"
        }
      ]
    },
    {
      "cell_type": "code",
      "metadata": {
        "id": "YgOPUBSGt1QE"
      },
      "source": [
        ""
      ],
      "execution_count": null,
      "outputs": []
    }
  ]
}