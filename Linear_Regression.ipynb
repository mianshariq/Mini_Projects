{
  "nbformat": 4,
  "nbformat_minor": 0,
  "metadata": {
    "colab": {
      "name": "Untitled9.ipynb",
      "provenance": [],
      "authorship_tag": "ABX9TyMlNba+WaHEyAJv1S4jf0CU",
      "include_colab_link": true
    },
    "kernelspec": {
      "name": "python3",
      "display_name": "Python 3"
    }
  },
  "cells": [
    {
      "cell_type": "markdown",
      "metadata": {
        "id": "view-in-github",
        "colab_type": "text"
      },
      "source": [
        "<a href=\"https://colab.research.google.com/github/mianshariq/Mini_Projects/blob/master/Untitled9.ipynb\" target=\"_parent\"><img src=\"https://colab.research.google.com/assets/colab-badge.svg\" alt=\"Open In Colab\"/></a>"
      ]
    },
    {
      "cell_type": "code",
      "metadata": {
        "id": "sK4r9qh_79ni"
      },
      "source": [
        "import pandas as pd\n",
        "import numpy as np\n",
        "import seaborn as sns\n",
        "import matplotlib.pyplot as plt\n",
        "from matplotlib import rc\n",
        "import statsmodels.formula.api as smf\n",
        "from sklearn.linear_model import LinearRegression"
      ],
      "execution_count": 34,
      "outputs": []
    },
    {
      "cell_type": "code",
      "metadata": {
        "id": "4uqSqmWM8Lcq"
      },
      "source": [
        ""
      ],
      "execution_count": 34,
      "outputs": []
    },
    {
      "cell_type": "code",
      "metadata": {
        "id": "Y5_a37Dh8D5a"
      },
      "source": [
        "df=pd.read_csv(\"https://github.com/mianshariq/Mini_Projects/raw/master/Unemployment_Insurance_Initial_Claims_By_Region_By_Month__Beginning_2003.csv\")"
      ],
      "execution_count": 37,
      "outputs": []
    },
    {
      "cell_type": "code",
      "metadata": {
        "colab": {
          "base_uri": "https://localhost:8080/"
        },
        "id": "vi-z8RxZ8X_u",
        "outputId": "dc24bdbb-e457-4ac6-8064-9c739b8ddc13"
      },
      "source": [
        "df.info()"
      ],
      "execution_count": 38,
      "outputs": [
        {
          "output_type": "stream",
          "text": [
            "<class 'pandas.core.frame.DataFrame'>\n",
            "RangeIndex: 2100 entries, 0 to 2099\n",
            "Data columns (total 3 columns):\n",
            " #   Column          Non-Null Count  Dtype \n",
            "---  ------          --------------  ----- \n",
            " 0   Period Ending   2100 non-null   object\n",
            " 1   Region          2100 non-null   object\n",
            " 2   Initial Claims  2100 non-null   int64 \n",
            "dtypes: int64(1), object(2)\n",
            "memory usage: 49.3+ KB\n"
          ],
          "name": "stdout"
        }
      ]
    },
    {
      "cell_type": "code",
      "metadata": {
        "colab": {
          "base_uri": "https://localhost:8080/",
          "height": 406
        },
        "id": "BVOMDcjWBLa7",
        "outputId": "5ee05a42-743d-4d8c-f807-685bbea63f0d"
      },
      "source": [
        "#df['Period Ending']=df['Period Ending'].apply(lambda time: time.year)\n",
        "df['Period Ending']=pd.to_datetime(df['Period Ending'])\n",
        "df"
      ],
      "execution_count": 41,
      "outputs": [
        {
          "output_type": "execute_result",
          "data": {
            "text/html": [
              "<div>\n",
              "<style scoped>\n",
              "    .dataframe tbody tr th:only-of-type {\n",
              "        vertical-align: middle;\n",
              "    }\n",
              "\n",
              "    .dataframe tbody tr th {\n",
              "        vertical-align: top;\n",
              "    }\n",
              "\n",
              "    .dataframe thead th {\n",
              "        text-align: right;\n",
              "    }\n",
              "</style>\n",
              "<table border=\"1\" class=\"dataframe\">\n",
              "  <thead>\n",
              "    <tr style=\"text-align: right;\">\n",
              "      <th></th>\n",
              "      <th>Period Ending</th>\n",
              "      <th>Region</th>\n",
              "      <th>Initial Claims</th>\n",
              "    </tr>\n",
              "  </thead>\n",
              "  <tbody>\n",
              "    <tr>\n",
              "      <th>0</th>\n",
              "      <td>2003-07-31</td>\n",
              "      <td>Capital</td>\n",
              "      <td>4326</td>\n",
              "    </tr>\n",
              "    <tr>\n",
              "      <th>1</th>\n",
              "      <td>2003-07-31</td>\n",
              "      <td>Central New York</td>\n",
              "      <td>4366</td>\n",
              "    </tr>\n",
              "    <tr>\n",
              "      <th>2</th>\n",
              "      <td>2003-07-31</td>\n",
              "      <td>Finger Lakes</td>\n",
              "      <td>7095</td>\n",
              "    </tr>\n",
              "    <tr>\n",
              "      <th>3</th>\n",
              "      <td>2003-07-31</td>\n",
              "      <td>Hudson Valley</td>\n",
              "      <td>8454</td>\n",
              "    </tr>\n",
              "    <tr>\n",
              "      <th>4</th>\n",
              "      <td>2003-07-31</td>\n",
              "      <td>Long Island</td>\n",
              "      <td>13575</td>\n",
              "    </tr>\n",
              "    <tr>\n",
              "      <th>...</th>\n",
              "      <td>...</td>\n",
              "      <td>...</td>\n",
              "      <td>...</td>\n",
              "    </tr>\n",
              "    <tr>\n",
              "      <th>2095</th>\n",
              "      <td>2020-12-31</td>\n",
              "      <td>Mohawk Valley</td>\n",
              "      <td>5489</td>\n",
              "    </tr>\n",
              "    <tr>\n",
              "      <th>2096</th>\n",
              "      <td>2020-12-31</td>\n",
              "      <td>New York City</td>\n",
              "      <td>84695</td>\n",
              "    </tr>\n",
              "    <tr>\n",
              "      <th>2097</th>\n",
              "      <td>2020-12-31</td>\n",
              "      <td>North Country</td>\n",
              "      <td>4286</td>\n",
              "    </tr>\n",
              "    <tr>\n",
              "      <th>2098</th>\n",
              "      <td>2020-12-31</td>\n",
              "      <td>Southern Tier</td>\n",
              "      <td>5956</td>\n",
              "    </tr>\n",
              "    <tr>\n",
              "      <th>2099</th>\n",
              "      <td>2020-12-31</td>\n",
              "      <td>Western New York</td>\n",
              "      <td>17039</td>\n",
              "    </tr>\n",
              "  </tbody>\n",
              "</table>\n",
              "<p>2100 rows × 3 columns</p>\n",
              "</div>"
            ],
            "text/plain": [
              "     Period Ending            Region  Initial Claims\n",
              "0       2003-07-31           Capital            4326\n",
              "1       2003-07-31  Central New York            4366\n",
              "2       2003-07-31      Finger Lakes            7095\n",
              "3       2003-07-31     Hudson Valley            8454\n",
              "4       2003-07-31       Long Island           13575\n",
              "...            ...               ...             ...\n",
              "2095    2020-12-31     Mohawk Valley            5489\n",
              "2096    2020-12-31     New York City           84695\n",
              "2097    2020-12-31     North Country            4286\n",
              "2098    2020-12-31     Southern Tier            5956\n",
              "2099    2020-12-31  Western New York           17039\n",
              "\n",
              "[2100 rows x 3 columns]"
            ]
          },
          "metadata": {
            "tags": []
          },
          "execution_count": 41
        }
      ]
    },
    {
      "cell_type": "code",
      "metadata": {
        "colab": {
          "base_uri": "https://localhost:8080/",
          "height": 371
        },
        "id": "eiBinjNP8pen",
        "outputId": "4f3ae031-10b9-4f88-b403-f1c7ea25a5c0"
      },
      "source": [
        "df_dpc1=df[['county', 'deaths']]\n",
        "df_dpc=df_dpc1.groupby(by=df_dpc1['county']).max()\n",
        "print(df_dpc1)\n",
        "df_dpc=df_dpc.sort_values(\"deaths\", ascending=False)"
      ],
      "execution_count": 42,
      "outputs": [
        {
          "output_type": "error",
          "ename": "KeyError",
          "evalue": "ignored",
          "traceback": [
            "\u001b[0;31m---------------------------------------------------------------------------\u001b[0m",
            "\u001b[0;31mKeyError\u001b[0m                                  Traceback (most recent call last)",
            "\u001b[0;32m<ipython-input-42-bc8c870ad0fa>\u001b[0m in \u001b[0;36m<module>\u001b[0;34m()\u001b[0m\n\u001b[0;32m----> 1\u001b[0;31m \u001b[0mdf_dpc1\u001b[0m\u001b[0;34m=\u001b[0m\u001b[0mdf\u001b[0m\u001b[0;34m[\u001b[0m\u001b[0;34m[\u001b[0m\u001b[0;34m'county'\u001b[0m\u001b[0;34m,\u001b[0m \u001b[0;34m'deaths'\u001b[0m\u001b[0;34m]\u001b[0m\u001b[0;34m]\u001b[0m\u001b[0;34m\u001b[0m\u001b[0;34m\u001b[0m\u001b[0m\n\u001b[0m\u001b[1;32m      2\u001b[0m \u001b[0mdf_dpc\u001b[0m\u001b[0;34m=\u001b[0m\u001b[0mdf_dpc1\u001b[0m\u001b[0;34m.\u001b[0m\u001b[0mgroupby\u001b[0m\u001b[0;34m(\u001b[0m\u001b[0mby\u001b[0m\u001b[0;34m=\u001b[0m\u001b[0mdf_dpc1\u001b[0m\u001b[0;34m[\u001b[0m\u001b[0;34m'county'\u001b[0m\u001b[0;34m]\u001b[0m\u001b[0;34m)\u001b[0m\u001b[0;34m.\u001b[0m\u001b[0mmax\u001b[0m\u001b[0;34m(\u001b[0m\u001b[0;34m)\u001b[0m\u001b[0;34m\u001b[0m\u001b[0;34m\u001b[0m\u001b[0m\n\u001b[1;32m      3\u001b[0m \u001b[0mprint\u001b[0m\u001b[0;34m(\u001b[0m\u001b[0mdf_dpc1\u001b[0m\u001b[0;34m)\u001b[0m\u001b[0;34m\u001b[0m\u001b[0;34m\u001b[0m\u001b[0m\n\u001b[1;32m      4\u001b[0m \u001b[0mdf_dpc\u001b[0m\u001b[0;34m=\u001b[0m\u001b[0mdf_dpc\u001b[0m\u001b[0;34m.\u001b[0m\u001b[0msort_values\u001b[0m\u001b[0;34m(\u001b[0m\u001b[0;34m\"deaths\"\u001b[0m\u001b[0;34m,\u001b[0m \u001b[0mascending\u001b[0m\u001b[0;34m=\u001b[0m\u001b[0;32mFalse\u001b[0m\u001b[0;34m)\u001b[0m\u001b[0;34m\u001b[0m\u001b[0;34m\u001b[0m\u001b[0m\n",
            "\u001b[0;32m/usr/local/lib/python3.6/dist-packages/pandas/core/frame.py\u001b[0m in \u001b[0;36m__getitem__\u001b[0;34m(self, key)\u001b[0m\n\u001b[1;32m   2910\u001b[0m             \u001b[0;32mif\u001b[0m \u001b[0mis_iterator\u001b[0m\u001b[0;34m(\u001b[0m\u001b[0mkey\u001b[0m\u001b[0;34m)\u001b[0m\u001b[0;34m:\u001b[0m\u001b[0;34m\u001b[0m\u001b[0;34m\u001b[0m\u001b[0m\n\u001b[1;32m   2911\u001b[0m                 \u001b[0mkey\u001b[0m \u001b[0;34m=\u001b[0m \u001b[0mlist\u001b[0m\u001b[0;34m(\u001b[0m\u001b[0mkey\u001b[0m\u001b[0;34m)\u001b[0m\u001b[0;34m\u001b[0m\u001b[0;34m\u001b[0m\u001b[0m\n\u001b[0;32m-> 2912\u001b[0;31m             \u001b[0mindexer\u001b[0m \u001b[0;34m=\u001b[0m \u001b[0mself\u001b[0m\u001b[0;34m.\u001b[0m\u001b[0mloc\u001b[0m\u001b[0;34m.\u001b[0m\u001b[0m_get_listlike_indexer\u001b[0m\u001b[0;34m(\u001b[0m\u001b[0mkey\u001b[0m\u001b[0;34m,\u001b[0m \u001b[0maxis\u001b[0m\u001b[0;34m=\u001b[0m\u001b[0;36m1\u001b[0m\u001b[0;34m,\u001b[0m \u001b[0mraise_missing\u001b[0m\u001b[0;34m=\u001b[0m\u001b[0;32mTrue\u001b[0m\u001b[0;34m)\u001b[0m\u001b[0;34m[\u001b[0m\u001b[0;36m1\u001b[0m\u001b[0;34m]\u001b[0m\u001b[0;34m\u001b[0m\u001b[0;34m\u001b[0m\u001b[0m\n\u001b[0m\u001b[1;32m   2913\u001b[0m \u001b[0;34m\u001b[0m\u001b[0m\n\u001b[1;32m   2914\u001b[0m         \u001b[0;31m# take() does not accept boolean indexers\u001b[0m\u001b[0;34m\u001b[0m\u001b[0;34m\u001b[0m\u001b[0;34m\u001b[0m\u001b[0m\n",
            "\u001b[0;32m/usr/local/lib/python3.6/dist-packages/pandas/core/indexing.py\u001b[0m in \u001b[0;36m_get_listlike_indexer\u001b[0;34m(self, key, axis, raise_missing)\u001b[0m\n\u001b[1;32m   1252\u001b[0m             \u001b[0mkeyarr\u001b[0m\u001b[0;34m,\u001b[0m \u001b[0mindexer\u001b[0m\u001b[0;34m,\u001b[0m \u001b[0mnew_indexer\u001b[0m \u001b[0;34m=\u001b[0m \u001b[0max\u001b[0m\u001b[0;34m.\u001b[0m\u001b[0m_reindex_non_unique\u001b[0m\u001b[0;34m(\u001b[0m\u001b[0mkeyarr\u001b[0m\u001b[0;34m)\u001b[0m\u001b[0;34m\u001b[0m\u001b[0;34m\u001b[0m\u001b[0m\n\u001b[1;32m   1253\u001b[0m \u001b[0;34m\u001b[0m\u001b[0m\n\u001b[0;32m-> 1254\u001b[0;31m         \u001b[0mself\u001b[0m\u001b[0;34m.\u001b[0m\u001b[0m_validate_read_indexer\u001b[0m\u001b[0;34m(\u001b[0m\u001b[0mkeyarr\u001b[0m\u001b[0;34m,\u001b[0m \u001b[0mindexer\u001b[0m\u001b[0;34m,\u001b[0m \u001b[0maxis\u001b[0m\u001b[0;34m,\u001b[0m \u001b[0mraise_missing\u001b[0m\u001b[0;34m=\u001b[0m\u001b[0mraise_missing\u001b[0m\u001b[0;34m)\u001b[0m\u001b[0;34m\u001b[0m\u001b[0;34m\u001b[0m\u001b[0m\n\u001b[0m\u001b[1;32m   1255\u001b[0m         \u001b[0;32mreturn\u001b[0m \u001b[0mkeyarr\u001b[0m\u001b[0;34m,\u001b[0m \u001b[0mindexer\u001b[0m\u001b[0;34m\u001b[0m\u001b[0;34m\u001b[0m\u001b[0m\n\u001b[1;32m   1256\u001b[0m \u001b[0;34m\u001b[0m\u001b[0m\n",
            "\u001b[0;32m/usr/local/lib/python3.6/dist-packages/pandas/core/indexing.py\u001b[0m in \u001b[0;36m_validate_read_indexer\u001b[0;34m(self, key, indexer, axis, raise_missing)\u001b[0m\n\u001b[1;32m   1296\u001b[0m             \u001b[0;32mif\u001b[0m \u001b[0mmissing\u001b[0m \u001b[0;34m==\u001b[0m \u001b[0mlen\u001b[0m\u001b[0;34m(\u001b[0m\u001b[0mindexer\u001b[0m\u001b[0;34m)\u001b[0m\u001b[0;34m:\u001b[0m\u001b[0;34m\u001b[0m\u001b[0;34m\u001b[0m\u001b[0m\n\u001b[1;32m   1297\u001b[0m                 \u001b[0maxis_name\u001b[0m \u001b[0;34m=\u001b[0m \u001b[0mself\u001b[0m\u001b[0;34m.\u001b[0m\u001b[0mobj\u001b[0m\u001b[0;34m.\u001b[0m\u001b[0m_get_axis_name\u001b[0m\u001b[0;34m(\u001b[0m\u001b[0maxis\u001b[0m\u001b[0;34m)\u001b[0m\u001b[0;34m\u001b[0m\u001b[0;34m\u001b[0m\u001b[0m\n\u001b[0;32m-> 1298\u001b[0;31m                 \u001b[0;32mraise\u001b[0m \u001b[0mKeyError\u001b[0m\u001b[0;34m(\u001b[0m\u001b[0;34mf\"None of [{key}] are in the [{axis_name}]\"\u001b[0m\u001b[0;34m)\u001b[0m\u001b[0;34m\u001b[0m\u001b[0;34m\u001b[0m\u001b[0m\n\u001b[0m\u001b[1;32m   1299\u001b[0m \u001b[0;34m\u001b[0m\u001b[0m\n\u001b[1;32m   1300\u001b[0m             \u001b[0;31m# We (temporarily) allow for some missing keys with .loc, except in\u001b[0m\u001b[0;34m\u001b[0m\u001b[0;34m\u001b[0m\u001b[0;34m\u001b[0m\u001b[0m\n",
            "\u001b[0;31mKeyError\u001b[0m: \"None of [Index(['county', 'deaths'], dtype='object')] are in the [columns]\""
          ]
        }
      ]
    },
    {
      "cell_type": "code",
      "metadata": {
        "id": "MVqjKlYO9LWf"
      },
      "source": [
        "df1=df.sort_values(by=[\"Region\", \"Period Ending\"], ascending=True)"
      ],
      "execution_count": 43,
      "outputs": []
    },
    {
      "cell_type": "code",
      "metadata": {
        "id": "YLF1eN-i9Ojb"
      },
      "source": [
        "shifted = df1['Initial Claims'].shift(1)\n",
        "df1['Initial Claims_Lag'] = ((df1['Initial Claims'] - shifted) / shifted)*100\n",
        "df1['Initial Claims_Lag'] =df1[\"Initial Claims_Lag\"].dropna()\n",
        "df1['Initial Claims_Lag'] =df1[\"Initial Claims_Lag\"].replace([np.inf, -np.inf], np.nan)\n"
      ],
      "execution_count": 51,
      "outputs": []
    },
    {
      "cell_type": "code",
      "metadata": {
        "colab": {
          "base_uri": "https://localhost:8080/",
          "height": 406
        },
        "id": "T95g4QgCAvT2",
        "outputId": "c8806170-eb12-401e-e946-230f5cca91a0"
      },
      "source": [
        "df"
      ],
      "execution_count": 52,
      "outputs": [
        {
          "output_type": "execute_result",
          "data": {
            "text/html": [
              "<div>\n",
              "<style scoped>\n",
              "    .dataframe tbody tr th:only-of-type {\n",
              "        vertical-align: middle;\n",
              "    }\n",
              "\n",
              "    .dataframe tbody tr th {\n",
              "        vertical-align: top;\n",
              "    }\n",
              "\n",
              "    .dataframe thead th {\n",
              "        text-align: right;\n",
              "    }\n",
              "</style>\n",
              "<table border=\"1\" class=\"dataframe\">\n",
              "  <thead>\n",
              "    <tr style=\"text-align: right;\">\n",
              "      <th></th>\n",
              "      <th>Period Ending</th>\n",
              "      <th>Region</th>\n",
              "      <th>Initial Claims</th>\n",
              "    </tr>\n",
              "  </thead>\n",
              "  <tbody>\n",
              "    <tr>\n",
              "      <th>0</th>\n",
              "      <td>2003-07-31</td>\n",
              "      <td>Capital</td>\n",
              "      <td>4326</td>\n",
              "    </tr>\n",
              "    <tr>\n",
              "      <th>1</th>\n",
              "      <td>2003-07-31</td>\n",
              "      <td>Central New York</td>\n",
              "      <td>4366</td>\n",
              "    </tr>\n",
              "    <tr>\n",
              "      <th>2</th>\n",
              "      <td>2003-07-31</td>\n",
              "      <td>Finger Lakes</td>\n",
              "      <td>7095</td>\n",
              "    </tr>\n",
              "    <tr>\n",
              "      <th>3</th>\n",
              "      <td>2003-07-31</td>\n",
              "      <td>Hudson Valley</td>\n",
              "      <td>8454</td>\n",
              "    </tr>\n",
              "    <tr>\n",
              "      <th>4</th>\n",
              "      <td>2003-07-31</td>\n",
              "      <td>Long Island</td>\n",
              "      <td>13575</td>\n",
              "    </tr>\n",
              "    <tr>\n",
              "      <th>...</th>\n",
              "      <td>...</td>\n",
              "      <td>...</td>\n",
              "      <td>...</td>\n",
              "    </tr>\n",
              "    <tr>\n",
              "      <th>2095</th>\n",
              "      <td>2020-12-31</td>\n",
              "      <td>Mohawk Valley</td>\n",
              "      <td>5489</td>\n",
              "    </tr>\n",
              "    <tr>\n",
              "      <th>2096</th>\n",
              "      <td>2020-12-31</td>\n",
              "      <td>New York City</td>\n",
              "      <td>84695</td>\n",
              "    </tr>\n",
              "    <tr>\n",
              "      <th>2097</th>\n",
              "      <td>2020-12-31</td>\n",
              "      <td>North Country</td>\n",
              "      <td>4286</td>\n",
              "    </tr>\n",
              "    <tr>\n",
              "      <th>2098</th>\n",
              "      <td>2020-12-31</td>\n",
              "      <td>Southern Tier</td>\n",
              "      <td>5956</td>\n",
              "    </tr>\n",
              "    <tr>\n",
              "      <th>2099</th>\n",
              "      <td>2020-12-31</td>\n",
              "      <td>Western New York</td>\n",
              "      <td>17039</td>\n",
              "    </tr>\n",
              "  </tbody>\n",
              "</table>\n",
              "<p>2100 rows × 3 columns</p>\n",
              "</div>"
            ],
            "text/plain": [
              "     Period Ending            Region  Initial Claims\n",
              "0       2003-07-31           Capital            4326\n",
              "1       2003-07-31  Central New York            4366\n",
              "2       2003-07-31      Finger Lakes            7095\n",
              "3       2003-07-31     Hudson Valley            8454\n",
              "4       2003-07-31       Long Island           13575\n",
              "...            ...               ...             ...\n",
              "2095    2020-12-31     Mohawk Valley            5489\n",
              "2096    2020-12-31     New York City           84695\n",
              "2097    2020-12-31     North Country            4286\n",
              "2098    2020-12-31     Southern Tier            5956\n",
              "2099    2020-12-31  Western New York           17039\n",
              "\n",
              "[2100 rows x 3 columns]"
            ]
          },
          "metadata": {
            "tags": []
          },
          "execution_count": 52
        }
      ]
    },
    {
      "cell_type": "code",
      "metadata": {
        "id": "RXczM1Ny9zYP"
      },
      "source": [
        "df2=df[df[\"Region\"]==\"New York City\"]\n",
        "#df2=df.groupby(by=df['Period Ending']).mean()"
      ],
      "execution_count": 84,
      "outputs": []
    },
    {
      "cell_type": "code",
      "metadata": {
        "colab": {
          "base_uri": "https://localhost:8080/",
          "height": 837
        },
        "id": "X42frUZb_cJn",
        "outputId": "4161f903-5c1b-4a76-c682-792f5a54131a"
      },
      "source": [
        "shifted = df2['Initial Claims'].shift(1)\n",
        "df2['Initial Claims_Lag'] = ((df2['Initial Claims'] - shifted) / shifted)\n",
        "df2['Initial Claims_Lag'] =df2[\"Initial Claims_Lag\"].dropna()\n",
        "df2['Initial Claims_Lag'] =df2[\"Initial Claims_Lag\"].replace([np.inf, -np.inf], np.nan)\n",
        "df3=df[df[\"Region\"]!=\"New York City\"]\n",
        "shifted = df3['Initial Claims'].shift(1)\n",
        "df3['Initial Claims_Lag'] = ((df3['Initial Claims'] - shifted) / shifted)\n",
        "df3['Initial Claims_Lag'] =df3[\"Initial Claims_Lag\"].dropna()\n",
        "df3['Initial Claims_Lag'] =df3[\"Initial Claims_Lag\"].replace([np.inf, -np.inf], np.nan)\n",
        "df3=df3.sort_values(by=[\"Region\", \"Period Ending\"], ascending=True)\n",
        "df2.tail()\n"
      ],
      "execution_count": 87,
      "outputs": [
        {
          "output_type": "stream",
          "text": [
            "/usr/local/lib/python3.6/dist-packages/ipykernel_launcher.py:2: SettingWithCopyWarning: \n",
            "A value is trying to be set on a copy of a slice from a DataFrame.\n",
            "Try using .loc[row_indexer,col_indexer] = value instead\n",
            "\n",
            "See the caveats in the documentation: https://pandas.pydata.org/pandas-docs/stable/user_guide/indexing.html#returning-a-view-versus-a-copy\n",
            "  \n",
            "/usr/local/lib/python3.6/dist-packages/ipykernel_launcher.py:3: SettingWithCopyWarning: \n",
            "A value is trying to be set on a copy of a slice from a DataFrame.\n",
            "Try using .loc[row_indexer,col_indexer] = value instead\n",
            "\n",
            "See the caveats in the documentation: https://pandas.pydata.org/pandas-docs/stable/user_guide/indexing.html#returning-a-view-versus-a-copy\n",
            "  This is separate from the ipykernel package so we can avoid doing imports until\n",
            "/usr/local/lib/python3.6/dist-packages/ipykernel_launcher.py:4: SettingWithCopyWarning: \n",
            "A value is trying to be set on a copy of a slice from a DataFrame.\n",
            "Try using .loc[row_indexer,col_indexer] = value instead\n",
            "\n",
            "See the caveats in the documentation: https://pandas.pydata.org/pandas-docs/stable/user_guide/indexing.html#returning-a-view-versus-a-copy\n",
            "  after removing the cwd from sys.path.\n",
            "/usr/local/lib/python3.6/dist-packages/ipykernel_launcher.py:7: SettingWithCopyWarning: \n",
            "A value is trying to be set on a copy of a slice from a DataFrame.\n",
            "Try using .loc[row_indexer,col_indexer] = value instead\n",
            "\n",
            "See the caveats in the documentation: https://pandas.pydata.org/pandas-docs/stable/user_guide/indexing.html#returning-a-view-versus-a-copy\n",
            "  import sys\n",
            "/usr/local/lib/python3.6/dist-packages/ipykernel_launcher.py:8: SettingWithCopyWarning: \n",
            "A value is trying to be set on a copy of a slice from a DataFrame.\n",
            "Try using .loc[row_indexer,col_indexer] = value instead\n",
            "\n",
            "See the caveats in the documentation: https://pandas.pydata.org/pandas-docs/stable/user_guide/indexing.html#returning-a-view-versus-a-copy\n",
            "  \n",
            "/usr/local/lib/python3.6/dist-packages/ipykernel_launcher.py:9: SettingWithCopyWarning: \n",
            "A value is trying to be set on a copy of a slice from a DataFrame.\n",
            "Try using .loc[row_indexer,col_indexer] = value instead\n",
            "\n",
            "See the caveats in the documentation: https://pandas.pydata.org/pandas-docs/stable/user_guide/indexing.html#returning-a-view-versus-a-copy\n",
            "  if __name__ == '__main__':\n"
          ],
          "name": "stderr"
        },
        {
          "output_type": "execute_result",
          "data": {
            "text/html": [
              "<div>\n",
              "<style scoped>\n",
              "    .dataframe tbody tr th:only-of-type {\n",
              "        vertical-align: middle;\n",
              "    }\n",
              "\n",
              "    .dataframe tbody tr th {\n",
              "        vertical-align: top;\n",
              "    }\n",
              "\n",
              "    .dataframe thead th {\n",
              "        text-align: right;\n",
              "    }\n",
              "</style>\n",
              "<table border=\"1\" class=\"dataframe\">\n",
              "  <thead>\n",
              "    <tr style=\"text-align: right;\">\n",
              "      <th></th>\n",
              "      <th>Period Ending</th>\n",
              "      <th>Region</th>\n",
              "      <th>Initial Claims</th>\n",
              "      <th>Initial Claims_Lag</th>\n",
              "    </tr>\n",
              "  </thead>\n",
              "  <tbody>\n",
              "    <tr>\n",
              "      <th>2056</th>\n",
              "      <td>2020-08-31</td>\n",
              "      <td>New York City</td>\n",
              "      <td>94684</td>\n",
              "      <td>-0.354046</td>\n",
              "    </tr>\n",
              "    <tr>\n",
              "      <th>2066</th>\n",
              "      <td>2020-09-30</td>\n",
              "      <td>New York City</td>\n",
              "      <td>117170</td>\n",
              "      <td>0.237485</td>\n",
              "    </tr>\n",
              "    <tr>\n",
              "      <th>2076</th>\n",
              "      <td>2020-10-31</td>\n",
              "      <td>New York City</td>\n",
              "      <td>100734</td>\n",
              "      <td>-0.140275</td>\n",
              "    </tr>\n",
              "    <tr>\n",
              "      <th>2086</th>\n",
              "      <td>2020-11-30</td>\n",
              "      <td>New York City</td>\n",
              "      <td>74857</td>\n",
              "      <td>-0.256884</td>\n",
              "    </tr>\n",
              "    <tr>\n",
              "      <th>2096</th>\n",
              "      <td>2020-12-31</td>\n",
              "      <td>New York City</td>\n",
              "      <td>84695</td>\n",
              "      <td>0.131424</td>\n",
              "    </tr>\n",
              "  </tbody>\n",
              "</table>\n",
              "</div>"
            ],
            "text/plain": [
              "     Period Ending         Region  Initial Claims  Initial Claims_Lag\n",
              "2056    2020-08-31  New York City           94684           -0.354046\n",
              "2066    2020-09-30  New York City          117170            0.237485\n",
              "2076    2020-10-31  New York City          100734           -0.140275\n",
              "2086    2020-11-30  New York City           74857           -0.256884\n",
              "2096    2020-12-31  New York City           84695            0.131424"
            ]
          },
          "metadata": {
            "tags": []
          },
          "execution_count": 87
        }
      ]
    },
    {
      "cell_type": "code",
      "metadata": {
        "colab": {
          "base_uri": "https://localhost:8080/",
          "height": 406
        },
        "id": "4j1UfXNLDNPL",
        "outputId": "5f0b5189-4721-490f-846f-d46e67a054a9"
      },
      "source": [
        "df3"
      ],
      "execution_count": 88,
      "outputs": [
        {
          "output_type": "execute_result",
          "data": {
            "text/html": [
              "<div>\n",
              "<style scoped>\n",
              "    .dataframe tbody tr th:only-of-type {\n",
              "        vertical-align: middle;\n",
              "    }\n",
              "\n",
              "    .dataframe tbody tr th {\n",
              "        vertical-align: top;\n",
              "    }\n",
              "\n",
              "    .dataframe thead th {\n",
              "        text-align: right;\n",
              "    }\n",
              "</style>\n",
              "<table border=\"1\" class=\"dataframe\">\n",
              "  <thead>\n",
              "    <tr style=\"text-align: right;\">\n",
              "      <th></th>\n",
              "      <th>Period Ending</th>\n",
              "      <th>Region</th>\n",
              "      <th>Initial Claims</th>\n",
              "      <th>Initial Claims_Lag</th>\n",
              "    </tr>\n",
              "  </thead>\n",
              "  <tbody>\n",
              "    <tr>\n",
              "      <th>0</th>\n",
              "      <td>2003-07-31</td>\n",
              "      <td>Capital</td>\n",
              "      <td>4326</td>\n",
              "      <td>NaN</td>\n",
              "    </tr>\n",
              "    <tr>\n",
              "      <th>10</th>\n",
              "      <td>2003-08-31</td>\n",
              "      <td>Capital</td>\n",
              "      <td>3605</td>\n",
              "      <td>-0.686085</td>\n",
              "    </tr>\n",
              "    <tr>\n",
              "      <th>20</th>\n",
              "      <td>2003-09-30</td>\n",
              "      <td>Capital</td>\n",
              "      <td>3805</td>\n",
              "      <td>-0.555231</td>\n",
              "    </tr>\n",
              "    <tr>\n",
              "      <th>30</th>\n",
              "      <td>2003-10-31</td>\n",
              "      <td>Capital</td>\n",
              "      <td>3835</td>\n",
              "      <td>-0.528870</td>\n",
              "    </tr>\n",
              "    <tr>\n",
              "      <th>40</th>\n",
              "      <td>2003-11-30</td>\n",
              "      <td>Capital</td>\n",
              "      <td>5214</td>\n",
              "      <td>-0.393862</td>\n",
              "    </tr>\n",
              "    <tr>\n",
              "      <th>...</th>\n",
              "      <td>...</td>\n",
              "      <td>...</td>\n",
              "      <td>...</td>\n",
              "      <td>...</td>\n",
              "    </tr>\n",
              "    <tr>\n",
              "      <th>2059</th>\n",
              "      <td>2020-08-31</td>\n",
              "      <td>Western New York</td>\n",
              "      <td>12243</td>\n",
              "      <td>1.711628</td>\n",
              "    </tr>\n",
              "    <tr>\n",
              "      <th>2069</th>\n",
              "      <td>2020-09-30</td>\n",
              "      <td>Western New York</td>\n",
              "      <td>11608</td>\n",
              "      <td>1.760523</td>\n",
              "    </tr>\n",
              "    <tr>\n",
              "      <th>2079</th>\n",
              "      <td>2020-10-31</td>\n",
              "      <td>Western New York</td>\n",
              "      <td>11227</td>\n",
              "      <td>1.676919</td>\n",
              "    </tr>\n",
              "    <tr>\n",
              "      <th>2089</th>\n",
              "      <td>2020-11-30</td>\n",
              "      <td>Western New York</td>\n",
              "      <td>18655</td>\n",
              "      <td>2.397996</td>\n",
              "    </tr>\n",
              "    <tr>\n",
              "      <th>2099</th>\n",
              "      <td>2020-12-31</td>\n",
              "      <td>Western New York</td>\n",
              "      <td>17039</td>\n",
              "      <td>1.860813</td>\n",
              "    </tr>\n",
              "  </tbody>\n",
              "</table>\n",
              "<p>1890 rows × 4 columns</p>\n",
              "</div>"
            ],
            "text/plain": [
              "     Period Ending            Region  Initial Claims  Initial Claims_Lag\n",
              "0       2003-07-31           Capital            4326                 NaN\n",
              "10      2003-08-31           Capital            3605           -0.686085\n",
              "20      2003-09-30           Capital            3805           -0.555231\n",
              "30      2003-10-31           Capital            3835           -0.528870\n",
              "40      2003-11-30           Capital            5214           -0.393862\n",
              "...            ...               ...             ...                 ...\n",
              "2059    2020-08-31  Western New York           12243            1.711628\n",
              "2069    2020-09-30  Western New York           11608            1.760523\n",
              "2079    2020-10-31  Western New York           11227            1.676919\n",
              "2089    2020-11-30  Western New York           18655            2.397996\n",
              "2099    2020-12-31  Western New York           17039            1.860813\n",
              "\n",
              "[1890 rows x 4 columns]"
            ]
          },
          "metadata": {
            "tags": []
          },
          "execution_count": 88
        }
      ]
    },
    {
      "cell_type": "code",
      "metadata": {
        "id": "BUUH2o3JDNF4"
      },
      "source": [
        ""
      ],
      "execution_count": 88,
      "outputs": []
    },
    {
      "cell_type": "code",
      "metadata": {
        "colab": {
          "base_uri": "https://localhost:8080/",
          "height": 720
        },
        "id": "-SYEU0wb-eol",
        "outputId": "f5211279-71e7-4150-a674-530d835c65e3"
      },
      "source": [
        "sns.set()\n",
        "plt.figure(figsize=(20,12))\n",
        "sns.lineplot(x=\"Period Ending\", y=\"Initial Claims_Lag\", data=df2)\n",
        "sns.lineplot(x=\"Period Ending\", y=\"Initial Claims_Lag\", data=df3)\n",
        "plt.show()"
      ],
      "execution_count": 89,
      "outputs": [
        {
          "output_type": "display_data",
          "data": {
            "image/png": "[encoded data removed]",
            "text/plain": [
              "<Figure size 1440x864 with 1 Axes>"
            ]
          },
          "metadata": {
            "tags": []
          }
        }
      ]
    },
    {
      "cell_type": "code",
      "metadata": {
        "id": "QnUBICwt-KJK"
      },
      "source": [
        ""
      ],
      "execution_count": 58,
      "outputs": []
    }
  ]
}
